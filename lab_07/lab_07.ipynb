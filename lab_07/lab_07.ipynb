{
 "cells": [
  {
   "cell_type": "markdown",
   "id": "bbe894a9-6749-41d5-8a2f-74a9f6a93525",
   "metadata": {},
   "source": [
    "# Zadanie 1"
   ]
  },
  {
   "cell_type": "code",
   "execution_count": 1,
   "id": "6f3ccf92-a776-46c1-8f68-0e3c482c8f6e",
   "metadata": {},
   "outputs": [
    {
     "name": "stderr",
     "output_type": "stream",
     "text": [
      "Setting default log level to \"WARN\".\n",
      "To adjust logging level use sc.setLogLevel(newLevel). For SparkR, use setLogLevel(newLevel).\n",
      "24/11/22 01:20:39 WARN NativeCodeLoader: Unable to load native-hadoop library for your platform... using builtin-java classes where applicable\n"
     ]
    }
   ],
   "source": [
    "from pyspark.sql import SparkSession\n",
    "from pyspark.sql.functions import col, regexp_replace, udf\n",
    "from pyspark.sql.types import StructType, StructField, StringType, FloatType, IntegerType, DateType\n",
    "import locale\n",
    "\n",
    "spark = SparkSession.builder \\\n",
    "    .appName(\"Zadanie_1\") \\\n",
    "    .getOrCreate()"
   ]
  },
  {
   "cell_type": "code",
   "execution_count": 2,
   "id": "bf86e76a-dc15-4920-b1e4-4b3ef4a16f66",
   "metadata": {},
   "outputs": [],
   "source": [
    "schema = StructType([\n",
    "    StructField(\"Kraj\", StringType(), True),\n",
    "    StructField(\"Sprzedawca\", StringType(), True),\n",
    "    StructField(\"Data zamowienia\", StringType(), True),\n",
    "    StructField(\"idZamowienia\", IntegerType(), True),\n",
    "    StructField(\"Utarg\", StringType(), True),\n",
    "])"
   ]
  },
  {
   "cell_type": "code",
   "execution_count": 3,
   "id": "abc572c5-9df8-4ce7-a7d0-3b720a77cd37",
   "metadata": {},
   "outputs": [
    {
     "name": "stdout",
     "output_type": "stream",
     "text": [
      "+------+----------+---------------+------------+-----------+\n",
      "|  Kraj|Sprzedawca|Data zamowienia|idZamowienia|      Utarg|\n",
      "+------+----------+---------------+------------+-----------+\n",
      "|Polska|  Kowalski|     16.07.2003|       10248|  440,00 z|\n",
      "|Polska|  Sowiäski|     10.07.2003|       10249|1 863,40 z|\n",
      "|Niemcy|   Peacock|     12.07.2003|       10250|1 552,60 z|\n",
      "|Niemcy| Leverling|     15.07.2003|       10251|  654,06 z|\n",
      "|Niemcy|   Peacock|     11.07.2003|       10252|3 597,90 z|\n",
      "|Niemcy| Leverling|     16.07.2003|       10253|1 444,80 z|\n",
      "|Polska|  Kowalski|     23.07.2003|       10254|  556,62 z|\n",
      "|Polska|     Dudek|     15.07.2003|       10255|2 490,50 z|\n",
      "|Niemcy| Leverling|     17.07.2003|       10256|  517,80 z|\n",
      "|Niemcy|   Peacock|     22.07.2003|       10257|1 119,90 z|\n",
      "|Niemcy|   Davolio|     23.07.2003|       10258|1 614,88 z|\n",
      "|Niemcy|   Peacock|     25.07.2003|       10259|  100,80 z|\n",
      "|Niemcy|   Peacock|     29.07.2003|       10260|1 504,65 z|\n",
      "|Niemcy|   Peacock|     30.07.2003|       10261|  448,00 z|\n",
      "|Niemcy|  Callahan|     25.07.2003|       10262|  584,00 z|\n",
      "|Polska|     Dudek|     31.07.2003|       10263|1 873,80 z|\n",
      "|Polska|  Sowiäski|     23.08.2003|       10264|  695,62 z|\n",
      "|Niemcy|    Fuller|     12.08.2003|       10265|1 176,00 z|\n",
      "|Niemcy| Leverling|     31.07.2003|       10266|  346,56 z|\n",
      "|Niemcy|   Peacock|     06.08.2003|       10267|3 536,60 z|\n",
      "+------+----------+---------------+------------+-----------+\n",
      "only showing top 20 rows\n",
      "\n"
     ]
    }
   ],
   "source": [
    "file_path = \"zamowienia.txt\"\n",
    "df = spark.read.option(\"delimiter\", \";\") \\\n",
    "               .option(\"header\", True) \\\n",
    "               .csv(file_path)\n",
    "df.show()"
   ]
  },
  {
   "cell_type": "code",
   "execution_count": 4,
   "id": "ebaa3cdb-71ed-45d6-842a-bf3a0dbb8d1b",
   "metadata": {},
   "outputs": [
    {
     "name": "stdout",
     "output_type": "stream",
     "text": [
      "+------+----------+---------------+------------+-----------+\n",
      "|  Kraj|Sprzedawca|Data zamowienia|idZamowienia|      Utarg|\n",
      "+------+----------+---------------+------------+-----------+\n",
      "|Polska|  Kowalski|     16.07.2003|       10248|  440,00 z|\n",
      "|Polska|  Sowiński|     10.07.2003|       10249|1 863,40 z|\n",
      "|Niemcy|   Peacock|     12.07.2003|       10250|1 552,60 z|\n",
      "|Niemcy| Leverling|     15.07.2003|       10251|  654,06 z|\n",
      "|Niemcy|   Peacock|     11.07.2003|       10252|3 597,90 z|\n",
      "|Niemcy| Leverling|     16.07.2003|       10253|1 444,80 z|\n",
      "|Polska|  Kowalski|     23.07.2003|       10254|  556,62 z|\n",
      "|Polska|     Dudek|     15.07.2003|       10255|2 490,50 z|\n",
      "|Niemcy| Leverling|     17.07.2003|       10256|  517,80 z|\n",
      "|Niemcy|   Peacock|     22.07.2003|       10257|1 119,90 z|\n",
      "|Niemcy|   Davolio|     23.07.2003|       10258|1 614,88 z|\n",
      "|Niemcy|   Peacock|     25.07.2003|       10259|  100,80 z|\n",
      "|Niemcy|   Peacock|     29.07.2003|       10260|1 504,65 z|\n",
      "|Niemcy|   Peacock|     30.07.2003|       10261|  448,00 z|\n",
      "|Niemcy|  Callahan|     25.07.2003|       10262|  584,00 z|\n",
      "|Polska|     Dudek|     31.07.2003|       10263|1 873,80 z|\n",
      "|Polska|  Sowiński|     23.08.2003|       10264|  695,62 z|\n",
      "|Niemcy|    Fuller|     12.08.2003|       10265|1 176,00 z|\n",
      "|Niemcy| Leverling|     31.07.2003|       10266|  346,56 z|\n",
      "|Niemcy|   Peacock|     06.08.2003|       10267|3 536,60 z|\n",
      "+------+----------+---------------+------------+-----------+\n",
      "only showing top 20 rows\n",
      "\n"
     ]
    }
   ],
   "source": [
    "df = df.withColumn(\"Sprzedawca\", regexp_replace(col(\"Sprzedawca\"), \"ä\", \"ń\"))\n",
    "\n",
    "df.show()"
   ]
  },
  {
   "cell_type": "code",
   "execution_count": 5,
   "id": "53902f53-315b-4233-8c1a-4b6d6f2bf8f7",
   "metadata": {},
   "outputs": [
    {
     "name": "stdout",
     "output_type": "stream",
     "text": [
      "+----------+\n",
      "|Sprzedawca|\n",
      "+----------+\n",
      "|  Sowiński|\n",
      "|   Peacock|\n",
      "|      King|\n",
      "|     Dudek|\n",
      "|   Davolio|\n",
      "|    Fuller|\n",
      "| Leverling|\n",
      "|  Kowalski|\n",
      "|  Callahan|\n",
      "+----------+\n",
      "\n"
     ]
    }
   ],
   "source": [
    "unique_sprzedawcy = df.select(\"Sprzedawca\").distinct()\n",
    "unique_sprzedawcy.show()"
   ]
  },
  {
   "cell_type": "code",
   "execution_count": 6,
   "id": "5e3b5841-4469-4c4b-9c2a-74b65b9dbac8",
   "metadata": {},
   "outputs": [
    {
     "name": "stdout",
     "output_type": "stream",
     "text": [
      "+------+----------+---------------+------------+-----------+\n",
      "|  Kraj|Sprzedawca|Data zamowienia|idZamowienia|      Utarg|\n",
      "+------+----------+---------------+------------+-----------+\n",
      "|Polska|  Kowalski|     2003-07-16|       10248|  440,00 z|\n",
      "|Polska|  Sowiński|     2003-07-10|       10249|1 863,40 z|\n",
      "|Niemcy|   Peacock|     2003-07-12|       10250|1 552,60 z|\n",
      "|Niemcy| Leverling|     2003-07-15|       10251|  654,06 z|\n",
      "|Niemcy|   Peacock|     2003-07-11|       10252|3 597,90 z|\n",
      "|Niemcy| Leverling|     2003-07-16|       10253|1 444,80 z|\n",
      "|Polska|  Kowalski|     2003-07-23|       10254|  556,62 z|\n",
      "|Polska|     Dudek|     2003-07-15|       10255|2 490,50 z|\n",
      "|Niemcy| Leverling|     2003-07-17|       10256|  517,80 z|\n",
      "|Niemcy|   Peacock|     2003-07-22|       10257|1 119,90 z|\n",
      "|Niemcy|   Davolio|     2003-07-23|       10258|1 614,88 z|\n",
      "|Niemcy|   Peacock|     2003-07-25|       10259|  100,80 z|\n",
      "|Niemcy|   Peacock|     2003-07-29|       10260|1 504,65 z|\n",
      "|Niemcy|   Peacock|     2003-07-30|       10261|  448,00 z|\n",
      "|Niemcy|  Callahan|     2003-07-25|       10262|  584,00 z|\n",
      "|Polska|     Dudek|     2003-07-31|       10263|1 873,80 z|\n",
      "|Polska|  Sowiński|     2003-08-23|       10264|  695,62 z|\n",
      "|Niemcy|    Fuller|     2003-08-12|       10265|1 176,00 z|\n",
      "|Niemcy| Leverling|     2003-07-31|       10266|  346,56 z|\n",
      "|Niemcy|   Peacock|     2003-08-06|       10267|3 536,60 z|\n",
      "+------+----------+---------------+------------+-----------+\n",
      "only showing top 20 rows\n",
      "\n"
     ]
    }
   ],
   "source": [
    "from pyspark.sql.functions import to_date\n",
    "\n",
    "df = df.withColumn(\"Data zamowienia\", to_date(col(\"Data zamowienia\"), \"dd.MM.yyyy\"))\n",
    "\n",
    "df.show()"
   ]
  },
  {
   "cell_type": "code",
   "execution_count": 7,
   "id": "6026ea80-78ce-4c1d-b0a3-16c2513d60aa",
   "metadata": {},
   "outputs": [
    {
     "name": "stdout",
     "output_type": "stream",
     "text": [
      "+------+----------+---------------+------------+-------+\n",
      "|  Kraj|Sprzedawca|Data zamowienia|idZamowienia|  Utarg|\n",
      "+------+----------+---------------+------------+-------+\n",
      "|Polska|  Kowalski|     2003-07-16|       10248|  440.0|\n",
      "|Polska|  Sowiński|     2003-07-10|       10249| 1863.4|\n",
      "|Niemcy|   Peacock|     2003-07-12|       10250| 1552.6|\n",
      "|Niemcy| Leverling|     2003-07-15|       10251| 654.06|\n",
      "|Niemcy|   Peacock|     2003-07-11|       10252| 3597.9|\n",
      "|Niemcy| Leverling|     2003-07-16|       10253| 1444.8|\n",
      "|Polska|  Kowalski|     2003-07-23|       10254| 556.62|\n",
      "|Polska|     Dudek|     2003-07-15|       10255| 2490.5|\n",
      "|Niemcy| Leverling|     2003-07-17|       10256|  517.8|\n",
      "|Niemcy|   Peacock|     2003-07-22|       10257| 1119.9|\n",
      "|Niemcy|   Davolio|     2003-07-23|       10258|1614.88|\n",
      "|Niemcy|   Peacock|     2003-07-25|       10259|  100.8|\n",
      "|Niemcy|   Peacock|     2003-07-29|       10260|1504.65|\n",
      "|Niemcy|   Peacock|     2003-07-30|       10261|  448.0|\n",
      "|Niemcy|  Callahan|     2003-07-25|       10262|  584.0|\n",
      "|Polska|     Dudek|     2003-07-31|       10263| 1873.8|\n",
      "|Polska|  Sowiński|     2003-08-23|       10264| 695.62|\n",
      "|Niemcy|    Fuller|     2003-08-12|       10265| 1176.0|\n",
      "|Niemcy| Leverling|     2003-07-31|       10266| 346.56|\n",
      "|Niemcy|   Peacock|     2003-08-06|       10267| 3536.6|\n",
      "+------+----------+---------------+------------+-------+\n",
      "only showing top 20 rows\n",
      "\n"
     ]
    }
   ],
   "source": [
    "df = df.withColumn(\"Utarg\", regexp_replace(col(\"Utarg\"), \"[ z|]\", \"\"))\n",
    "df = df.withColumn(\"Utarg\", regexp_replace(col(\"Utarg\"), \",\", \".\").cast(FloatType()))\n",
    "\n",
    "df.show()"
   ]
  },
  {
   "cell_type": "code",
   "execution_count": 8,
   "id": "bea05f8b-ca11-4d0e-924d-c17b4eea1b7e",
   "metadata": {},
   "outputs": [
    {
     "name": "stdout",
     "output_type": "stream",
     "text": [
      "+------+----------+---------------+-------+------------+---+\n",
      "|  Kraj|Sprzedawca|Data zamowienia|  Utarg|idZamowienia| ID|\n",
      "+------+----------+---------------+-------+------------+---+\n",
      "|Polska|  Kowalski|     2003-07-16|  440.0|       10248|  0|\n",
      "|Polska|  Sowiński|     2003-07-10| 1863.4|       10249|  1|\n",
      "|Niemcy|   Peacock|     2003-07-12| 1552.6|       10250|  2|\n",
      "|Niemcy| Leverling|     2003-07-15| 654.06|       10251|  3|\n",
      "|Niemcy|   Peacock|     2003-07-11| 3597.9|       10252|  4|\n",
      "|Niemcy| Leverling|     2003-07-16| 1444.8|       10253|  5|\n",
      "|Polska|  Kowalski|     2003-07-23| 556.62|       10254|  6|\n",
      "|Polska|     Dudek|     2003-07-15| 2490.5|       10255|  7|\n",
      "|Niemcy| Leverling|     2003-07-17|  517.8|       10256|  8|\n",
      "|Niemcy|   Peacock|     2003-07-22| 1119.9|       10257|  9|\n",
      "|Niemcy|   Davolio|     2003-07-23|1614.88|       10258| 10|\n",
      "|Niemcy|   Peacock|     2003-07-25|  100.8|       10259| 11|\n",
      "|Niemcy|   Peacock|     2003-07-29|1504.65|       10260| 12|\n",
      "|Niemcy|   Peacock|     2003-07-30|  448.0|       10261| 13|\n",
      "|Niemcy|  Callahan|     2003-07-25|  584.0|       10262| 14|\n",
      "|Polska|     Dudek|     2003-07-31| 1873.8|       10263| 15|\n",
      "|Polska|  Sowiński|     2003-08-23| 695.62|       10264| 16|\n",
      "|Niemcy|    Fuller|     2003-08-12| 1176.0|       10265| 17|\n",
      "|Niemcy| Leverling|     2003-07-31| 346.56|       10266| 18|\n",
      "|Niemcy|   Peacock|     2003-08-06| 3536.6|       10267| 19|\n",
      "+------+----------+---------------+-------+------------+---+\n",
      "only showing top 20 rows\n",
      "\n"
     ]
    }
   ],
   "source": [
    "from pyspark.sql.functions import monotonically_increasing_id\n",
    "\n",
    "df = df.withColumnRenamed(\"idZamowienia\", \"idZamowienia_temp\") \\\n",
    "       .withColumn(\"idZamowienia\", col(\"idZamowienia_temp\").cast(IntegerType())) \\\n",
    "       .drop(\"idZamowienia_temp\") \\\n",
    "       .repartition(1).withColumn('ID', monotonically_increasing_id())\n",
    "\n",
    "df.show()"
   ]
  },
  {
   "cell_type": "code",
   "execution_count": 9,
   "id": "67eebb87-dd33-45d3-b1ed-62f1137bf001",
   "metadata": {},
   "outputs": [
    {
     "name": "stdout",
     "output_type": "stream",
     "text": [
      "+---+------+----------+---------------+-------+------------+\n",
      "| ID|  Kraj|Sprzedawca|Data zamowienia|  Utarg|idZamowienia|\n",
      "+---+------+----------+---------------+-------+------------+\n",
      "|  0|Polska|  Kowalski|     2003-07-16|  440.0|       10248|\n",
      "|  1|Polska|  Sowiński|     2003-07-10| 1863.4|       10249|\n",
      "|  2|Niemcy|   Peacock|     2003-07-12| 1552.6|       10250|\n",
      "|  3|Niemcy| Leverling|     2003-07-15| 654.06|       10251|\n",
      "|  4|Niemcy|   Peacock|     2003-07-11| 3597.9|       10252|\n",
      "|  5|Niemcy| Leverling|     2003-07-16| 1444.8|       10253|\n",
      "|  6|Polska|  Kowalski|     2003-07-23| 556.62|       10254|\n",
      "|  7|Polska|     Dudek|     2003-07-15| 2490.5|       10255|\n",
      "|  8|Niemcy| Leverling|     2003-07-17|  517.8|       10256|\n",
      "|  9|Niemcy|   Peacock|     2003-07-22| 1119.9|       10257|\n",
      "| 10|Niemcy|   Davolio|     2003-07-23|1614.88|       10258|\n",
      "| 11|Niemcy|   Peacock|     2003-07-25|  100.8|       10259|\n",
      "| 12|Niemcy|   Peacock|     2003-07-29|1504.65|       10260|\n",
      "| 13|Niemcy|   Peacock|     2003-07-30|  448.0|       10261|\n",
      "| 14|Niemcy|  Callahan|     2003-07-25|  584.0|       10262|\n",
      "| 15|Polska|     Dudek|     2003-07-31| 1873.8|       10263|\n",
      "| 16|Polska|  Sowiński|     2003-08-23| 695.62|       10264|\n",
      "| 17|Niemcy|    Fuller|     2003-08-12| 1176.0|       10265|\n",
      "| 18|Niemcy| Leverling|     2003-07-31| 346.56|       10266|\n",
      "| 19|Niemcy|   Peacock|     2003-08-06| 3536.6|       10267|\n",
      "+---+------+----------+---------------+-------+------------+\n",
      "only showing top 20 rows\n",
      "\n"
     ]
    }
   ],
   "source": [
    "columns = df.columns\n",
    "\n",
    "new_column_order = [\"ID\"] + [col for col in columns if col != \"ID\"]\n",
    "\n",
    "df = df.select(new_column_order)\n",
    "\n",
    "df.show()"
   ]
  },
  {
   "cell_type": "code",
   "execution_count": 10,
   "id": "284f3a3c-d626-48bf-bb37-a9de00e785ac",
   "metadata": {},
   "outputs": [
    {
     "name": "stdout",
     "output_type": "stream",
     "text": [
      "root\n",
      " |-- ID: long (nullable = false)\n",
      " |-- Kraj: string (nullable = true)\n",
      " |-- Sprzedawca: string (nullable = true)\n",
      " |-- Data zamowienia: date (nullable = true)\n",
      " |-- Utarg: float (nullable = true)\n",
      " |-- idZamowienia: integer (nullable = true)\n",
      "\n"
     ]
    }
   ],
   "source": [
    "df.printSchema()"
   ]
  },
  {
   "cell_type": "markdown",
   "id": "476b158c-0e59-4903-91c0-51df61ccffdb",
   "metadata": {},
   "source": [
    "## Zadanie 2"
   ]
  },
  {
   "cell_type": "code",
   "execution_count": 11,
   "id": "2c9e5377-5267-4ea0-8b0d-bbb2692f3813",
   "metadata": {},
   "outputs": [
    {
     "name": "stdout",
     "output_type": "stream",
     "text": [
      "+------+-----------------+---------------+\n",
      "|  Kraj|      Suma_Utargu|Liczba_zamowien|\n",
      "+------+-----------------+---------------+\n",
      "|Polska| 333330.908657074|            215|\n",
      "|Niemcy|894996.4916362762|            584|\n",
      "+------+-----------------+---------------+\n",
      "\n",
      "Czas wykonania zapytania na danych z wiaderkami: 0.22080278396606445 sekund\n",
      "+------+-----------------+---------------+\n",
      "|  Kraj|      Suma_Utargu|Liczba_zamowien|\n",
      "+------+-----------------+---------------+\n",
      "|Polska| 333330.908657074|            215|\n",
      "|Niemcy|894996.4916362762|            584|\n",
      "+------+-----------------+---------------+\n",
      "\n",
      "Czas wykonania zapytania na danych oryginalnych: 0.16924571990966797 sekund\n"
     ]
    }
   ],
   "source": [
    "from pyspark.sql import functions as F\n",
    "import time\n",
    "\n",
    "bucketed_df = df.write \\\n",
    "    .bucketBy(4, \"Kraj\") \\\n",
    "    .sortBy(\"Kraj\") \\\n",
    "    .mode(\"overwrite\") \\\n",
    "    .saveAsTable(\"bucketed_orders2\")\n",
    "\n",
    "bucketed_df = spark.table(\"bucketed_orders2\")\n",
    "\n",
    "start_time = time.time()\n",
    "bucketed_aggregated = bucketed_df.groupBy(\"Kraj\").agg(\n",
    "    F.sum(\"Utarg\").alias(\"Suma_Utargu\"),\n",
    "    F.count(\"idZamowienia\").alias(\"Liczba_zamowien\")\n",
    ")\n",
    "bucketed_aggregated.show()\n",
    "end_time = time.time()\n",
    "bucketed_time = end_time - start_time\n",
    "print(f\"Czas wykonania zapytania na danych z wiaderkami: {bucketed_time} sekund\")\n",
    "\n",
    "start_time = time.time()\n",
    "original_aggregated = df.groupBy(\"Kraj\").agg(\n",
    "    F.sum(\"Utarg\").alias(\"Suma_Utargu\"),\n",
    "    F.count(\"idZamowienia\").alias(\"Liczba_zamowien\")\n",
    ")\n",
    "original_aggregated.show()\n",
    "end_time = time.time()\n",
    "original_time = end_time - start_time\n",
    "print(f\"Czas wykonania zapytania na danych oryginalnych: {original_time} sekund\")\n"
   ]
  },
  {
   "cell_type": "code",
   "execution_count": 12,
   "id": "efcf0e53-c112-4d46-a39e-af74b6687b43",
   "metadata": {},
   "outputs": [],
   "source": [
    "df.write \\\n",
    "    .partitionBy(\"Kraj\") \\\n",
    "    .mode(\"overwrite\") \\\n",
    "    .csv(\"partitioned_by_kraj\")\n",
    "\n",
    "df.write \\\n",
    "    .partitionBy(\"Sprzedawca\") \\\n",
    "    .mode(\"overwrite\") \\\n",
    "    .csv(\"partitioned_by_sprzedawca\")\n"
   ]
  },
  {
   "cell_type": "code",
   "execution_count": 28,
   "id": "fff14b24-51ca-47e4-a9f6-27e27902a182",
   "metadata": {},
   "outputs": [
    {
     "name": "stdout",
     "output_type": "stream",
     "text": [
      "+------+-----------------+---------------+\n",
      "|  Kraj|      Suma_Utargu|Liczba_zamowien|\n",
      "+------+-----------------+---------------+\n",
      "|Polska| 333330.908657074|            215|\n",
      "|Niemcy|894996.4916362762|            584|\n",
      "+------+-----------------+---------------+\n",
      "\n",
      "Czas wykonania zapytania na danych oryginalnych: 0.09369325637817383 sekund\n",
      "+------+-----------------+---------------+\n",
      "|  Kraj|      Suma_Utargu|Liczba_zamowien|\n",
      "+------+-----------------+---------------+\n",
      "|Niemcy|894996.4916362762|            584|\n",
      "|Polska| 333330.908657074|            215|\n",
      "+------+-----------------+---------------+\n",
      "\n",
      "Czas wykonania zapytania na danych partycjonowanych: 0.06855225563049316 sekund\n"
     ]
    }
   ],
   "source": [
    "import pyspark.sql.functions as F\n",
    "import time\n",
    "\n",
    "start_time = time.time()\n",
    "df_aggregated = df.groupBy(\"Kraj\").agg(\n",
    "    sum(\"Utarg\").alias(\"Suma_Utargu\"),\n",
    "    count(\"idZamowienia\").alias(\"Liczba_zamowien\")\n",
    ")\n",
    "df_aggregated.show()\n",
    "end_time = time.time()\n",
    "original_time = end_time - start_time\n",
    "print(f\"Czas wykonania zapytania na danych oryginalnych: {original_time} sekund\")\n",
    "\n",
    "df_partitioned = df.repartition(\"Kraj\")\n",
    "\n",
    "start_time = time.time()\n",
    "df_partitioned_aggregated = df_partitioned.groupBy(\"Kraj\").agg(\n",
    "    F.sum(\"Utarg\").alias(\"Suma_Utargu\"),\n",
    "    F.count(\"idZamowienia\").alias(\"Liczba_zamowien\")\n",
    ")\n",
    "df_partitioned_aggregated.show()\n",
    "end_time = time.time()\n",
    "partitioned_time = end_time - start_time\n",
    "print(f\"Czas wykonania zapytania na danych partycjonowanych: {partitioned_time} sekund\")\n"
   ]
  },
  {
   "cell_type": "markdown",
   "id": "38d0fa4d-2e2a-4d1a-8842-e19aee62ca8c",
   "metadata": {},
   "source": [
    "# Zadanie 3"
   ]
  },
  {
   "cell_type": "code",
   "execution_count": 48,
   "id": "70fbc0dc-40f1-4a4f-b120-e6aadd39e6cc",
   "metadata": {},
   "outputs": [
    {
     "name": "stdout",
     "output_type": "stream",
     "text": [
      "+---+------+----------+---------------+-------+------------+-----+\n",
      "| ID|  Kraj|Sprzedawca|Data zamowienia|  Utarg|idZamowienia|month|\n",
      "+---+------+----------+---------------+-------+------------+-----+\n",
      "|  3|Niemcy| Leverling|     2003-07-15| 654.06|       10251|    7|\n",
      "|  7|Polska|     Dudek|     2003-07-15| 2490.5|       10255|    7|\n",
      "| 10|Niemcy|   Davolio|     2003-07-23|1614.88|       10258|    7|\n",
      "| 12|Niemcy|   Peacock|     2003-07-29|1504.65|       10260|    7|\n",
      "| 16|Polska|  Sowiński|     2003-08-23| 695.62|       10264|    8|\n",
      "| 18|Niemcy| Leverling|     2003-07-31| 346.56|       10266|    7|\n",
      "+---+------+----------+---------------+-------+------------+-----+\n",
      "only showing top 6 rows\n",
      "\n"
     ]
    }
   ],
   "source": [
    "subset_1 = df.sample(withReplacement=False, fraction=0.5, seed=42) \\\n",
    "    .withColumn(\"month\", F.month(col(\"Data zamowienia\")))\n",
    "subset_1.show(6)"
   ]
  },
  {
   "cell_type": "code",
   "execution_count": 57,
   "id": "1c7d78fe-9608-486f-9edd-f1f472865108",
   "metadata": {},
   "outputs": [
    {
     "name": "stdout",
     "output_type": "stream",
     "text": [
      "+---+------+----------+---------------+-------+------------+---------+\n",
      "| ID|  Kraj|Sprzedawca|Data zamowienia|  Utarg|idZamowienia|net_value|\n",
      "+---+------+----------+---------------+-------+------------+---------+\n",
      "|  3|Niemcy| Leverling|     2003-07-15| 654.06|       10251| 531.7561|\n",
      "|  7|Polska|     Dudek|     2003-07-15| 2490.5|       10255|2024.7968|\n",
      "| 10|Niemcy|   Davolio|     2003-07-23|1614.88|       10258|1312.9105|\n",
      "| 12|Niemcy|   Peacock|     2003-07-29|1504.65|       10260|1223.2927|\n",
      "| 16|Polska|  Sowiński|     2003-08-23| 695.62|       10264|565.54474|\n",
      "+---+------+----------+---------------+-------+------------+---------+\n",
      "only showing top 5 rows\n",
      "\n"
     ]
    }
   ],
   "source": [
    "subset_2 = df.sample(withReplacement=False, fraction=0.5, seed=42) \\\n",
    "    .withColumn(\"net_value\", (col(\"Utarg\").cast(\"float\") / 1.23).cast(\"float\"))\n",
    "\n",
    "subset_2.show(5)"
   ]
  },
  {
   "cell_type": "code",
   "execution_count": 69,
   "id": "2831ce28-92f3-4fc9-be2c-2faf0b7f1b3e",
   "metadata": {},
   "outputs": [
    {
     "name": "stdout",
     "output_type": "stream",
     "text": [
      "+---+------+----------+---------------+-------+------------+----------------+\n",
      "| ID|  Kraj|Sprzedawca|Data zamowienia|  Utarg|idZamowienia|Sprzedawca_upper|\n",
      "+---+------+----------+---------------+-------+------------+----------------+\n",
      "|  3|Niemcy| Leverling|     2003-07-15| 654.06|       10251|       LEVERLING|\n",
      "|  7|Polska|     Dudek|     2003-07-15| 2490.5|       10255|           DUDEK|\n",
      "| 10|Niemcy|   Davolio|     2003-07-23|1614.88|       10258|         DAVOLIO|\n",
      "| 12|Niemcy|   Peacock|     2003-07-29|1504.65|       10260|         PEACOCK|\n",
      "| 16|Polska|  Sowiński|     2003-08-23| 695.62|       10264|        SOWIŃSKI|\n",
      "| 18|Niemcy| Leverling|     2003-07-31| 346.56|       10266|       LEVERLING|\n",
      "| 20|Niemcy|  Callahan|     2003-08-02| 1101.2|       10268|        CALLAHAN|\n",
      "| 25|Niemcy| Leverling|     2003-08-12|2037.28|       10273|       LEVERLING|\n",
      "| 26|Polska|  Sowiński|     2003-08-16|  538.6|       10274|        SOWIŃSKI|\n",
      "| 27|Niemcy|   Davolio|     2003-08-09| 291.84|       10275|         DAVOLIO|\n",
      "+---+------+----------+---------------+-------+------------+----------------+\n",
      "only showing top 10 rows\n",
      "\n"
     ]
    }
   ],
   "source": [
    "subset_3 = df.sample(withReplacement=False, fraction=0.5, seed=42) \\\n",
    "    .withColumn(\"Sprzedawca_upper\", F.upper(col(\"Sprzedawca\")))\n",
    "\n",
    "subset_3.show(10)"
   ]
  },
  {
   "cell_type": "code",
   "execution_count": 70,
   "id": "bc4cf0ba-c1a4-40b5-aea2-a36e44b60c64",
   "metadata": {},
   "outputs": [
    {
     "name": "stdout",
     "output_type": "stream",
     "text": [
      "+---+------+----------+---------------+-------+------------+--------+\n",
      "| ID|  Kraj|Sprzedawca|Data zamowienia|  Utarg|idZamowienia|currency|\n",
      "+---+------+----------+---------------+-------+------------+--------+\n",
      "|  3|Niemcy| Leverling|     2003-07-15| 654.06|       10251|     PLN|\n",
      "|  7|Polska|     Dudek|     2003-07-15| 2490.5|       10255|     PLN|\n",
      "| 10|Niemcy|   Davolio|     2003-07-23|1614.88|       10258|     PLN|\n",
      "| 12|Niemcy|   Peacock|     2003-07-29|1504.65|       10260|     PLN|\n",
      "| 16|Polska|  Sowiński|     2003-08-23| 695.62|       10264|     PLN|\n",
      "+---+------+----------+---------------+-------+------------+--------+\n",
      "only showing top 5 rows\n",
      "\n"
     ]
    }
   ],
   "source": [
    "subset_4 = df.sample(withReplacement=False, fraction=0.5, seed=42) \\\n",
    "    .withColumn(\"currency\", F.lit(\"PLN\"))\n",
    "\n",
    "subset_4.show(5)"
   ]
  },
  {
   "cell_type": "code",
   "execution_count": 71,
   "id": "8ff84d36-2e3c-4c0f-a9ef-bb482c6009c4",
   "metadata": {},
   "outputs": [],
   "source": [
    "subset_1.createOrReplaceTempView(\"subset_1_table\")\n",
    "subset_2.write.mode(\"overwrite\").parquet(\"subset_2.parquet\")\n",
    "subset_3.write.mode(\"overwrite\").csv(\"subset_3.csv\", header=True)\n",
    "subset_4.write.mode(\"overwrite\").json(\"subset_4.json\")\n"
   ]
  },
  {
   "cell_type": "code",
   "execution_count": 72,
   "id": "5403c26d-6d2f-453e-aa8e-3feae12bca4c",
   "metadata": {},
   "outputs": [],
   "source": [
    "subset_2_from_file = spark.read.parquet(\"subset_2.parquet\")\n",
    "subset_3_from_file = spark.read.csv(\"subset_3.csv\", header=True, inferSchema=True)\n",
    "subset_4_from_file = spark.read.json(\"subset_4.json\")\n",
    "\n",
    "\n",
    "subset_2_from_file.createOrReplaceTempView(\"subset_2_table\")\n",
    "subset_3_from_file.createOrReplaceTempView(\"subset_3_table\")\n",
    "subset_4_from_file.createOrReplaceTempView(\"subset_4_table\")\n"
   ]
  },
  {
   "cell_type": "code",
   "execution_count": 73,
   "id": "bb2f7625-9ed2-4716-998d-c5e30429c85f",
   "metadata": {},
   "outputs": [
    {
     "name": "stdout",
     "output_type": "stream",
     "text": [
      "+------------+------+----------+---------------+-------+-----+---------+--------+----------------+\n",
      "|idZamowienia|  Kraj|Sprzedawca|Data zamowienia|  Utarg|month|net_value|currency|Sprzedawca_upper|\n",
      "+------------+------+----------+---------------+-------+-----+---------+--------+----------------+\n",
      "|       10251|Niemcy| Leverling|     2003-07-15| 654.06|    7| 531.7561|     PLN|       LEVERLING|\n",
      "|       10255|Polska|     Dudek|     2003-07-15| 2490.5|    7|2024.7968|     PLN|           DUDEK|\n",
      "|       10258|Niemcy|   Davolio|     2003-07-23|1614.88|    7|1312.9105|     PLN|         DAVOLIO|\n",
      "|       10260|Niemcy|   Peacock|     2003-07-29|1504.65|    7|1223.2927|     PLN|         PEACOCK|\n",
      "|       10264|Polska|  Sowiński|     2003-08-23| 695.62|    8|565.54474|     PLN|        SOWIŃSKI|\n",
      "|       10266|Niemcy| Leverling|     2003-07-31| 346.56|    7| 281.7561|     PLN|       LEVERLING|\n",
      "|       10268|Niemcy|  Callahan|     2003-08-02| 1101.2|    8| 895.2845|     PLN|        CALLAHAN|\n",
      "|       10273|Niemcy| Leverling|     2003-08-12|2037.28|    8|1656.3252|     PLN|       LEVERLING|\n",
      "|       10274|Polska|  Sowiński|     2003-08-16|  538.6|    8|437.88617|     PLN|        SOWIŃSKI|\n",
      "|       10275|Niemcy|   Davolio|     2003-08-09| 291.84|    8| 237.2683|     PLN|         DAVOLIO|\n",
      "|       10279|Niemcy|  Callahan|     2003-08-16|  351.0|    8|285.36584|     PLN|        CALLAHAN|\n",
      "|       10284|Niemcy|   Peacock|     2003-08-27|1170.37|    8| 951.5203|     PLN|         PEACOCK|\n",
      "|       10285|Niemcy|   Davolio|     2003-08-26|1743.36|    8|1417.3658|     PLN|         DAVOLIO|\n",
      "|       10286|Niemcy|  Callahan|     2003-08-30| 3016.0|    8|2452.0325|     PLN|        CALLAHAN|\n",
      "|       10288|Niemcy|   Peacock|     2003-09-03|   80.1|    9| 65.12195|     PLN|         PEACOCK|\n",
      "|       10289|Polska|      King|     2003-08-28|  479.4|    8| 389.7561|     PLN|            KING|\n",
      "|       10296|Polska|  Sowiński|     2003-09-11| 1050.6|    9| 854.1463|     PLN|        SOWIŃSKI|\n",
      "|       10298|Polska|  Sowiński|     2003-09-11| 2645.0|    9|2150.4065|     PLN|        SOWIŃSKI|\n",
      "|       10301|Niemcy|  Callahan|     2003-09-17|  755.0|    9|613.82117|     PLN|        CALLAHAN|\n",
      "|       10302|Niemcy|   Peacock|     2003-10-09| 2708.8|   10|2202.2764|     PLN|         PEACOCK|\n",
      "+------------+------+----------+---------------+-------+-----+---------+--------+----------------+\n",
      "only showing top 20 rows\n",
      "\n"
     ]
    }
   ],
   "source": [
    "result = spark.sql(\"\"\"\n",
    "SELECT \n",
    "    s1.idZamowienia, \n",
    "    s1.Kraj, \n",
    "    s3.Sprzedawca, \n",
    "    s1.`Data zamowienia`, \n",
    "    s1.Utarg,\n",
    "    s1.month, \n",
    "    s2.net_value, \n",
    "    s4.currency,\n",
    "    s3.Sprzedawca_upper\n",
    "FROM \n",
    "    subset_1_table s1\n",
    "LEFT JOIN \n",
    "    subset_2_table s2 ON s1.idZamowienia = s2.idZamowienia\n",
    "LEFT JOIN \n",
    "    subset_3_table s3 ON s1.idZamowienia = s3.idZamowienia\n",
    "LEFT JOIN \n",
    "    subset_4_table s4 ON s1.idZamowienia = s4.idZamowienia\n",
    "\"\"\")\n",
    "result.show()"
   ]
  },
  {
   "cell_type": "code",
   "execution_count": null,
   "id": "f7dabe47-d4cb-4da7-bf0a-f1265f61ea71",
   "metadata": {},
   "outputs": [],
   "source": []
  }
 ],
 "metadata": {
  "kernelspec": {
   "display_name": "Python 3 (ipykernel)",
   "language": "python",
   "name": "python3"
  },
  "language_info": {
   "codemirror_mode": {
    "name": "ipython",
    "version": 3
   },
   "file_extension": ".py",
   "mimetype": "text/x-python",
   "name": "python",
   "nbconvert_exporter": "python",
   "pygments_lexer": "ipython3",
   "version": "3.10.12"
  }
 },
 "nbformat": 4,
 "nbformat_minor": 5
}
