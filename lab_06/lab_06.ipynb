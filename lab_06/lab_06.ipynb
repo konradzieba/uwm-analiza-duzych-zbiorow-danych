{
 "cells": [
  {
   "cell_type": "code",
   "execution_count": 1,
   "id": "8084b35f-1ff9-41fa-b23e-a78193483406",
   "metadata": {},
   "outputs": [],
   "source": [
    "import os\n",
    "os.environ['SPARK_NAME'] = \"/opt/spark\"\n",
    "# os.environ['PYSPARK_DRIVER_PYTHON'] = 'jupyter'\n",
    "os.environ['PYSPARK_DRIVER_PYTHON_OPTS'] = 'lab'\n",
    "# os.environ['PYSPARK_PYTHON'] = 'python'\n",
    "os.environ['PYSPARK_DRIVER_PYTHON'] = '/opt/spark/work-dir/.venv/bin/python3'\n",
    "os.environ['PYSPARK_PYTHON'] = '/opt/spark/work-dir/.venv/bin/python3'"
   ]
  },
  {
   "cell_type": "code",
   "execution_count": 3,
   "id": "8cacf057-0d01-4014-83b4-1e6752438801",
   "metadata": {},
   "outputs": [
    {
     "name": "stderr",
     "output_type": "stream",
     "text": [
      "24/11/15 21:11:47 WARN SparkSession: Using an existing Spark session; only runtime SQL configurations will take effect.\n"
     ]
    },
    {
     "data": {
      "text/html": [
       "\n",
       "        <div>\n",
       "            <p><b>SparkContext</b></p>\n",
       "\n",
       "            <p><a href=\"http://0fcd7025b65b:4041\">Spark UI</a></p>\n",
       "\n",
       "            <dl>\n",
       "              <dt>Version</dt>\n",
       "                <dd><code>v3.5.3</code></dd>\n",
       "              <dt>Master</dt>\n",
       "                <dd><code>local[2]</code></dd>\n",
       "              <dt>AppName</dt>\n",
       "                <dd><code>Create-DataFrame</code></dd>\n",
       "            </dl>\n",
       "        </div>\n",
       "        "
      ],
      "text/plain": [
       "<SparkContext master=local[2] appName=Create-DataFrame>"
      ]
     },
     "execution_count": 3,
     "metadata": {},
     "output_type": "execute_result"
    }
   ],
   "source": [
    "from pyspark.sql import SparkSession\n",
    "\n",
    "spark = SparkSession\\\n",
    "        .builder\\\n",
    "        .master(\"local[2]\")\\\n",
    "        .appName(\"Create-DataFrame\")\\\n",
    "        .config(\"spark.memory.offHeap.enabled\",\"true\")\\\n",
    "        .config(\"spark.memory.offHeap.size\",\"4g\")\\\n",
    "        .getOrCreate()\n",
    "spark.sparkContext"
   ]
  },
  {
   "cell_type": "code",
   "execution_count": 4,
   "id": "4bfdf9b1-89ed-465a-aeee-3c1689574711",
   "metadata": {},
   "outputs": [],
   "source": [
    "sc = spark.sparkContext"
   ]
  },
  {
   "cell_type": "code",
   "execution_count": 5,
   "id": "43af524d-47a2-484c-a0bb-1e85d7575645",
   "metadata": {},
   "outputs": [
    {
     "name": "stdout",
     "output_type": "stream",
     "text": [
      "--2024-11-15 21:12:33--  https://archive.ics.uci.edu/static/public/911/recipe+reviews+and+user+feedback+dataset.zip\n",
      "Resolving archive.ics.uci.edu (archive.ics.uci.edu)... 128.195.10.252\n",
      "Connecting to archive.ics.uci.edu (archive.ics.uci.edu)|128.195.10.252|:443... connected.\n",
      "HTTP request sent, awaiting response... 200 OK\n",
      "Length: unspecified\n",
      "Saving to: ‘recipe+reviews+and+user+feedback+dataset.zip’\n",
      "\n",
      "recipe+reviews+and+     [                <=> ]   2.02M   561KB/s    in 4.3s    \n",
      "\n",
      "2024-11-15 21:12:38 (482 KB/s) - ‘recipe+reviews+and+user+feedback+dataset.zip’ saved [2114088]\n",
      "\n"
     ]
    }
   ],
   "source": [
    "!wget https://archive.ics.uci.edu/static/public/911/recipe+reviews+and+user+feedback+dataset.zip"
   ]
  },
  {
   "cell_type": "code",
   "execution_count": 6,
   "id": "bf288405-875e-4d3a-8046-a7591472a76e",
   "metadata": {},
   "outputs": [
    {
     "name": "stdout",
     "output_type": "stream",
     "text": [
      "lab_05.ipynb\t\t       pan-tadeusz.txt\n",
      "lab_06.ipynb\t\t       polish.stopwords.txt\n",
      "myenv\t\t\t       recipe+reviews+and+user+feedback+dataset.zip\n",
      "pan_tadeusz_bag_of_words.json\n"
     ]
    }
   ],
   "source": [
    "!ls"
   ]
  },
  {
   "cell_type": "code",
   "execution_count": 7,
   "id": "50bb190a-549b-434e-88bd-1a88bfdc2283",
   "metadata": {},
   "outputs": [],
   "source": [
    "!mv recipe+reviews+and+user+feedback+dataset.zip recipe_reviews.zip"
   ]
  },
  {
   "cell_type": "code",
   "execution_count": 8,
   "id": "f357657d-c106-4f3a-b42c-ffabfbf3e2f3",
   "metadata": {},
   "outputs": [],
   "source": [
    "import zipfile\n",
    "with zipfile.ZipFile(\"recipe_reviews.zip\", 'r') as zip_ref:\n",
    "    zip_ref.extractall(\"./data\")"
   ]
  },
  {
   "cell_type": "code",
   "execution_count": 9,
   "id": "fde85958-302b-4bde-b2dc-21c2557e89c2",
   "metadata": {},
   "outputs": [
    {
     "name": "stdout",
     "output_type": "stream",
     "text": [
      "'Recipe Reviews and User Feedback Dataset.csv'\n"
     ]
    }
   ],
   "source": [
    "!ls ./data"
   ]
  },
  {
   "cell_type": "code",
   "execution_count": 10,
   "id": "9e3bf0cf-e503-417a-8c25-76b9628b63e8",
   "metadata": {},
   "outputs": [
    {
     "name": "stdout",
     "output_type": "stream",
     "text": [
      ",recipe_number,recipe_code,recipe_name,comment_id,user_id,user_name,user_reputation,created_at,reply_count,thumbs_up,thumbs_down,stars,best_score,text\n",
      "0,001,14299,Creamy White Chili,sp_aUSaElGf_14299_c_2G3aneMRgRMZwXqIHmSdXSG1hEM,u_9iFLIhMa8QaG,Jeri326,1,1665619889,0,0,0,5,527,\"I tweaked it a little, removed onions because of onion haters in my house, used Italian seasoning instead of just oregano, and use a paprika/ cayenne mix and a little more than the recipe called for.. we like everything a bit more hot. The chili was amazing! It was easy to make and everyone absolutely loved it. It will now be a staple meal in our house.\"\n",
      "1,001,14299,Creamy White Chili,sp_aUSaElGf_14299_c_2FsPC83HtzCsQAtOxlbL6RcaPbY,u_Lu6p25tmE77j,Mark467,50,1665277687,0,7,0,5,724,\"Bush used to have a white chili bean and it made this recipe super simple. I’ve written to them and asked them to please!, bring them back\"\n"
     ]
    }
   ],
   "source": [
    "!head -3 \"data/Recipe Reviews and User Feedback Dataset.csv\""
   ]
  },
  {
   "cell_type": "code",
   "execution_count": 14,
   "id": "8aa8b948-ff08-4b63-83cc-618bd8d2e1e0",
   "metadata": {},
   "outputs": [
    {
     "name": "stdout",
     "output_type": "stream",
     "text": [
      "+---+-------------+-----------+------------------+--------------------+--------------+----------------+---------------+----------+-----------+---------+-----------+-----+----------+--------------------+\n",
      "|_c0|recipe_number|recipe_code|       recipe_name|          comment_id|       user_id|       user_name|user_reputation|created_at|reply_count|thumbs_up|thumbs_down|stars|best_score|                text|\n",
      "+---+-------------+-----------+------------------+--------------------+--------------+----------------+---------------+----------+-----------+---------+-----------+-----+----------+--------------------+\n",
      "|  0|          001|      14299|Creamy White Chili|sp_aUSaElGf_14299...|u_9iFLIhMa8QaG|         Jeri326|              1|1665619889|          0|        0|          0|    5|       527|I tweaked it a li...|\n",
      "|  1|          001|      14299|Creamy White Chili|sp_aUSaElGf_14299...|u_Lu6p25tmE77j|         Mark467|             50|1665277687|          0|        7|          0|    5|       724|Bush used to have...|\n",
      "|  2|          001|      14299|Creamy White Chili|sp_aUSaElGf_14299...|u_s0LwgpZ8Jsqq|      Barbara566|             10|1664404557|          0|        3|          0|    5|       710|I have a very com...|\n",
      "|  3|          001|      14299|Creamy White Chili|sp_aUSaElGf_14299...|u_fqrybAdYjgjG|      jeansch123|              1|1661787808|          2|        2|          0|    0|       581|In your introduct...|\n",
      "|  4|          001|      14299|Creamy White Chili|sp_aUSaElGf_14299...|u_XXWKwVhKZD69|        camper77|             10|1664913823|          1|        7|          0|    0|       820|Wonderful! I made...|\n",
      "|  5|          001|      14299|Creamy White Chili|sp_aUSaElGf_14299...|u_BALTQJIvWtYr|         nikhita|              1|1661354351|          0|        3|          1|    5|       518|amazing! my boyfr...|\n",
      "|  6|          001|      14299|Creamy White Chili|sp_aUSaElGf_14299...|u_HuJVXMzQqJoI|       Sandy1256|              1|1644088805|          0|       11|          0|    5|       833|Wow!!!  This reci...|\n",
      "|  7|          001|      14299|Creamy White Chili|sp_aUSaElGf_14299...|u_uj79hCc4xVhm|         Towanka|              1|1643942114|          0|       28|          2|    0|       891|This is delicious...|\n",
      "|  8|          001|      14299|Creamy White Chili|sp_aUSaElGf_14299...|u_xDTU4BqIVIc9|           Quest|              1|1643933124|          0|        6|          0|    5|       693|I absolutely love...|\n",
      "|  9|          001|      14299|Creamy White Chili|sp_aUSaElGf_14299...|u_cDoX9ujcQEoc|     Susannah953|              1|1643237839|          0|        0|          0|    5|       404|I make this a lot...|\n",
      "| 10|          001|      14299|Creamy White Chili|sp_aUSaElGf_14299...|u_a1kMC63ejmcn|jillanglemyer810|              1|1643127683|          0|        3|          0|    5|       706|Best and easiest ...|\n",
      "| 11|          001|      14299|Creamy White Chili|sp_aUSaElGf_14299...|u_rLDRFmNx35zU|       Leslie126|              1|1642892566|          0|        2|          1|    5|       617|Best white chili ...|\n",
      "| 12|          001|      14299|Creamy White Chili|sp_aUSaElGf_14299...|u_lPW6uyGJNSN0|       Cindy4876|              1|1642353692|          0|        1|          0|    5|       633|This recipe was e...|\n",
      "| 13|          001|      14299|Creamy White Chili|sp_aUSaElGf_14299...|u_EXBl66u7yYkp|         Xzercie|              1|1645506015|          0|        4|          2|    5|       672|I made this along...|\n",
      "| 14|          001|      14299|Creamy White Chili|sp_aUSaElGf_14299...|u_tOkZoHuF5wQW|       TERESA062|              1|1641956093|          0|        5|          1|    5|       585|Fantastic, but mi...|\n",
      "| 15|          001|      14299|Creamy White Chili|sp_aUSaElGf_14299...|u_pTdidnO4Qvj9|      Mary-Lynne|              1|1641825491|          0|        1|          0|    5|       608|This is a fabulou...|\n",
      "| 16|          001|      14299|Creamy White Chili|sp_aUSaElGf_14299...|u_zSpLgUzFZKjk|           Petri|              1|1641578704|          0|        0|          0|    4|       449|Delicious, If you...|\n",
      "| 17|          001|      14299|Creamy White Chili|sp_aUSaElGf_14299...|u_DAo1aayKpI6d|      Marilyn034|              1|1638206887|          0|        3|          0|    5|       637|made according to...|\n",
      "| 18|          001|      14299|Creamy White Chili|sp_aUSaElGf_14299...|u_YTq5zXIY38wL|    Jeannette653|              1|1637520980|          0|        3|          0|    5|       602|My new favorite s...|\n",
      "| 19|          001|      14299|Creamy White Chili|sp_aUSaElGf_14299...|u_xwWa3ShkvfPQ|        Scott967|              1|1637441853|          1|       11|          1|    5|       820|This is a hit in ...|\n",
      "+---+-------------+-----------+------------------+--------------------+--------------+----------------+---------------+----------+-----------+---------+-----------+-----+----------+--------------------+\n",
      "only showing top 20 rows\n",
      "\n"
     ]
    },
    {
     "name": "stderr",
     "output_type": "stream",
     "text": [
      "24/11/15 21:14:03 WARN CSVHeaderChecker: CSV header does not conform to the schema.\n",
      " Header: , recipe_number, recipe_code, recipe_name, comment_id, user_id, user_name, user_reputation, created_at, reply_count, thumbs_up, thumbs_down, stars, best_score, text\n",
      " Schema: _c0, recipe_number, recipe_code, recipe_name, comment_id, user_id, user_name, user_reputation, created_at, reply_count, thumbs_up, thumbs_down, stars, best_score, text\n",
      "Expected: _c0 but found: \n",
      "CSV file: file:///opt/spark/work-dir/data/Recipe%20Reviews%20and%20User%20Feedback%20Dataset.csv\n"
     ]
    }
   ],
   "source": [
    "df_reviews = spark.read.csv('./data/Recipe Reviews and User Feedback Dataset.csv', header=True, sep=\",\")\n",
    "\n",
    "df_reviews.show()"
   ]
  },
  {
   "cell_type": "code",
   "execution_count": 15,
   "id": "5f81ca79-f7c0-403b-8457-e5473d0f1b6e",
   "metadata": {},
   "outputs": [
    {
     "name": "stdout",
     "output_type": "stream",
     "text": [
      "root\n",
      " |-- _c0: string (nullable = true)\n",
      " |-- recipe_number: string (nullable = true)\n",
      " |-- recipe_code: string (nullable = true)\n",
      " |-- recipe_name: string (nullable = true)\n",
      " |-- comment_id: string (nullable = true)\n",
      " |-- user_id: string (nullable = true)\n",
      " |-- user_name: string (nullable = true)\n",
      " |-- user_reputation: string (nullable = true)\n",
      " |-- created_at: string (nullable = true)\n",
      " |-- reply_count: string (nullable = true)\n",
      " |-- thumbs_up: string (nullable = true)\n",
      " |-- thumbs_down: string (nullable = true)\n",
      " |-- stars: string (nullable = true)\n",
      " |-- best_score: string (nullable = true)\n",
      " |-- text: string (nullable = true)\n",
      "\n"
     ]
    }
   ],
   "source": [
    "df_reviews.printSchema()"
   ]
  },
  {
   "cell_type": "code",
   "execution_count": 16,
   "id": "9dd217e8-231f-49f6-a95f-05c86798944e",
   "metadata": {},
   "outputs": [],
   "source": [
    "df_reviews = spark.read.csv('./data/Recipe Reviews and User Feedback Dataset.csv', header=True, sep=\",\", inferSchema=True)"
   ]
  },
  {
   "cell_type": "code",
   "execution_count": 17,
   "id": "641b1515-41e3-41f5-a93b-2bbdc65a6909",
   "metadata": {},
   "outputs": [
    {
     "name": "stdout",
     "output_type": "stream",
     "text": [
      "root\n",
      " |-- _c0: string (nullable = true)\n",
      " |-- recipe_number: string (nullable = true)\n",
      " |-- recipe_code: string (nullable = true)\n",
      " |-- recipe_name: string (nullable = true)\n",
      " |-- comment_id: string (nullable = true)\n",
      " |-- user_id: string (nullable = true)\n",
      " |-- user_name: string (nullable = true)\n",
      " |-- user_reputation: string (nullable = true)\n",
      " |-- created_at: integer (nullable = true)\n",
      " |-- reply_count: integer (nullable = true)\n",
      " |-- thumbs_up: integer (nullable = true)\n",
      " |-- thumbs_down: integer (nullable = true)\n",
      " |-- stars: integer (nullable = true)\n",
      " |-- best_score: integer (nullable = true)\n",
      " |-- text: string (nullable = true)\n",
      "\n"
     ]
    }
   ],
   "source": [
    "df_reviews.printSchema()"
   ]
  },
  {
   "cell_type": "code",
   "execution_count": 18,
   "id": "bc68125c-3d94-439f-b50d-2af7e777d835",
   "metadata": {},
   "outputs": [
    {
     "name": "stdout",
     "output_type": "stream",
     "text": [
      "root\n",
      " |-- id: string (nullable = true)\n",
      " |-- recipe_number: string (nullable = true)\n",
      " |-- recipe_code: string (nullable = true)\n",
      " |-- recipe_name: string (nullable = true)\n",
      " |-- comment_id: string (nullable = true)\n",
      " |-- user_id: string (nullable = true)\n",
      " |-- user_name: string (nullable = true)\n",
      " |-- user_reputation: string (nullable = true)\n",
      " |-- created_at: integer (nullable = true)\n",
      " |-- reply_count: integer (nullable = true)\n",
      " |-- thumbs_up: integer (nullable = true)\n",
      " |-- thumbs_down: integer (nullable = true)\n",
      " |-- stars: integer (nullable = true)\n",
      " |-- best_score: integer (nullable = true)\n",
      " |-- text: string (nullable = true)\n",
      "\n"
     ]
    }
   ],
   "source": [
    "df_reviews = df_reviews.withColumnRenamed(\"_c0\", \"id\")\n",
    "df_reviews.printSchema()"
   ]
  },
  {
   "cell_type": "code",
   "execution_count": 19,
   "id": "2bea6fb2-d797-49d7-9a93-8e5ec3106209",
   "metadata": {},
   "outputs": [
    {
     "name": "stdout",
     "output_type": "stream",
     "text": [
      "+-----------+\n",
      "|reply_count|\n",
      "+-----------+\n",
      "|          3|\n",
      "|          3|\n",
      "|          3|\n",
      "|          3|\n",
      "|          3|\n",
      "|          3|\n",
      "|          2|\n",
      "|          2|\n",
      "|          2|\n",
      "|          2|\n",
      "+-----------+\n",
      "only showing top 10 rows\n",
      "\n"
     ]
    }
   ],
   "source": [
    "from pyspark.sql.functions import desc\n",
    "\n",
    "df_reviews.select(\"reply_count\")\\\n",
    "    .orderBy(desc(\"reply_count\"))\\\n",
    "    .show(10)"
   ]
  },
  {
   "cell_type": "code",
   "execution_count": 20,
   "id": "dbf4c458-32c9-47db-96ac-fec629b798af",
   "metadata": {},
   "outputs": [
    {
     "name": "stdout",
     "output_type": "stream",
     "text": [
      "+-----------+----------------+\n",
      "|recipe_code|total_best_score|\n",
      "+-----------+----------------+\n",
      "|       2832|           98863|\n",
      "|      14299|           85497|\n",
      "|      17826|           64880|\n",
      "|       3309|           64247|\n",
      "|      21444|           60755|\n",
      "|      32480|           59867|\n",
      "|      12540|           59195|\n",
      "|       2912|           54032|\n",
      "|      42083|           51975|\n",
      "|      19731|           47905|\n",
      "+-----------+----------------+\n",
      "only showing top 10 rows\n",
      "\n"
     ]
    }
   ],
   "source": [
    "df_reviews.groupBy(\"recipe_code\")\\\n",
    "    .agg({\"best_score\": \"sum\"})\\\n",
    "    .withColumnRenamed(\"sum(best_score)\", \"total_best_score\")\\\n",
    "    .orderBy(desc(\"total_best_score\"))\\\n",
    "    .show(10)"
   ]
  },
  {
   "cell_type": "code",
   "execution_count": 21,
   "id": "5c7e1939-5316-4af6-bc7c-e071f4f1519f",
   "metadata": {},
   "outputs": [
    {
     "name": "stdout",
     "output_type": "stream",
     "text": [
      "+-----------+--------------+\n",
      "|recipe_code|total_comments|\n",
      "+-----------+--------------+\n",
      "|       2832|            16|\n",
      "|        414|            13|\n",
      "|      32480|            12|\n",
      "|      14299|            10|\n",
      "|      18345|            10|\n",
      "|       8202|             9|\n",
      "|      12003|             8|\n",
      "|      41095|             8|\n",
      "|       1324|             8|\n",
      "|       8431|             6|\n",
      "+-----------+--------------+\n",
      "only showing top 10 rows\n",
      "\n"
     ]
    }
   ],
   "source": [
    "df_reviews.groupBy(\"recipe_code\")\\\n",
    "    .agg({\"reply_count\": \"sum\"})\\\n",
    "    .withColumnRenamed(\"sum(reply_count)\", \"total_comments\")\\\n",
    "    .orderBy(desc(\"total_comments\"))\\\n",
    "    .show(10)"
   ]
  },
  {
   "cell_type": "code",
   "execution_count": 34,
   "id": "bd459b58-75bd-4e9a-9dc8-6520c0531c79",
   "metadata": {},
   "outputs": [
    {
     "data": {
      "image/png": "[encoded data removed]",
      "text/plain": [
       "<Figure size 600x400 with 1 Axes>"
      ]
     },
     "metadata": {},
     "output_type": "display_data"
    }
   ],
   "source": [
    "stars_distribution = df_reviews.groupBy(\"stars\")\\\n",
    "    .count()\\\n",
    "    .orderBy(\"stars\")\\\n",
    "    .toPandas()\n",
    "\n",
    "plt.figure(figsize=(6, 4))\n",
    "plt.bar(stars_distribution['stars'], stars_distribution['count'], color='royalblue')\n",
    "\n",
    "plt.title(\"Rozkład wartości w kolumnie stars\")\n",
    "plt.xlabel(\"Stars\")\n",
    "plt.ylabel(\"Count\")\n",
    "\n",
    "plt.tight_layout()\n",
    "plt.show()"
   ]
  },
  {
   "cell_type": "code",
   "execution_count": 45,
   "id": "e55fdf13-fe50-4e01-9bbe-031ae72d253d",
   "metadata": {},
   "outputs": [],
   "source": [
    "header = ['id', 'firstname', 'lastname', 'age', 'salary']\n",
    "firstnames = ['Adam', 'Katarzyna', 'Krzysztof', 'Marek', 'Aleksandra', 'Zbigniew', 'Wojciech', 'Mieczysław', 'Agata', 'Wisława']\n",
    "lastnames = ['Mieczykowski', 'Kowalski', 'Malinowski' , 'Szczaw', 'Glut', 'Barański', 'Brzęczyszczykiewicz', 'Wróblewski', 'Wlotka', 'Pysla']\n",
    "age = {'min': 18, 'max': 68}\n",
    "salary = {'min': 3200, 'max': 12500}"
   ]
  },
  {
   "cell_type": "code",
   "execution_count": 46,
   "id": "86d0ab98-9f98-4c8c-87d0-abea2248985a",
   "metadata": {},
   "outputs": [],
   "source": [
    "import random\n",
    "from tqdm import tqdm\n",
    "\n",
    "def build_dataset(filename, n_rows=100, chunk_size=100000):\n",
    "    rows = []\n",
    "    rows.append(header)\n",
    "    mu = (salary['max'] + salary['min']) / 2\n",
    "    sigma = 1000\n",
    "\n",
    "    with open(filename, 'w', encoding='utf-8') as filehandler:\n",
    "        \n",
    "        for id in tqdm(range(1, n_rows + 1), total=n_rows, desc=\"Building dataset...\"):\n",
    "            row = [\n",
    "                f'{id}', \n",
    "                f'{random.choice(firstnames)}', \n",
    "                f'{random.choice(lastnames)}', \n",
    "                f\"{random.randint(age['min'], age['max'])}\",\n",
    "                f\"{round(float(random.normalvariate(mu=mu, sigma=sigma)), 2)}\"\n",
    "            ]\n",
    "            rows.append(row)\n",
    "            if id % chunk_size == 0:\n",
    "                filehandler.writelines([f\"{','.join(row)}\\n\" for row in rows])\n",
    "                rows = []"
   ]
  },
  {
   "cell_type": "code",
   "execution_count": 47,
   "id": "e551a774-93a6-45f9-a281-24bb158beb73",
   "metadata": {},
   "outputs": [
    {
     "name": "stderr",
     "output_type": "stream",
     "text": [
      "Building dataset...: 100%|███████████████████████████████████████████████████████████████| 20000000/20000000 [01:07<00:00, 295519.47it/s]\n"
     ]
    }
   ],
   "source": [
    "build_dataset('employee.csv', 20_000_000)"
   ]
  },
  {
   "cell_type": "code",
   "execution_count": 48,
   "id": "5e30cd0b-ae81-4f9f-b93d-416926360659",
   "metadata": {},
   "outputs": [
    {
     "name": "stderr",
     "output_type": "stream",
     "text": [
      "[Stage 99:================================================>         (5 + 1) / 6]"
     ]
    },
    {
     "name": "stdout",
     "output_type": "stream",
     "text": [
      "CPU times: user 13.8 ms, sys: 3.09 ms, total: 16.9 ms\n",
      "Wall time: 8.5 s\n"
     ]
    },
    {
     "name": "stderr",
     "output_type": "stream",
     "text": [
      "                                                                                "
     ]
    }
   ],
   "source": [
    "import time\n",
    "\n",
    "df = spark.read.csv('employee.csv', header=True, inferSchema=True)"
   ]
  },
  {
   "cell_type": "code",
   "execution_count": 58,
   "id": "562cf972-a8de-4376-90ce-8260448bb22b",
   "metadata": {},
   "outputs": [
    {
     "name": "stderr",
     "output_type": "stream",
     "text": [
      "[Stage 109:===============================================>         (5 + 1) / 6]"
     ]
    },
    {
     "name": "stdout",
     "output_type": "stream",
     "text": [
      "Liczba wyników: 315064\n",
      "Czas wykonania: 6.0551 sekund\n"
     ]
    },
    {
     "name": "stderr",
     "output_type": "stream",
     "text": [
      "                                                                                "
     ]
    }
   ],
   "source": [
    "start_time = time.time()\n",
    "count_result = df.filter(df[\"salary\"] > 10000).count()\n",
    "end_time = time.time()\n",
    "\n",
    "print(f\"Liczba wyników: {count_result}\")\n",
    "print(f\"Czas wykonania: {end_time - start_time:.4f} sekund\")"
   ]
  },
  {
   "cell_type": "code",
   "execution_count": 51,
   "id": "33cd0614-663f-433f-80c3-4c5ed443eef8",
   "metadata": {},
   "outputs": [
    {
     "name": "stdout",
     "output_type": "stream",
     "text": [
      "root\n",
      " |-- id: integer (nullable = true)\n",
      " |-- firstname: string (nullable = true)\n",
      " |-- lastname: string (nullable = true)\n",
      " |-- age: integer (nullable = true)\n",
      " |-- salary: double (nullable = true)\n",
      "\n"
     ]
    }
   ],
   "source": [
    "df.printSchema()"
   ]
  },
  {
   "cell_type": "code",
   "execution_count": 64,
   "id": "bcc6d8ca-b0d4-41d8-b9d7-1fe0cf09453b",
   "metadata": {},
   "outputs": [
    {
     "name": "stdout",
     "output_type": "stream",
     "text": [
      "+---+----------+-------------------+---+-------+\n",
      "| id| firstname|           lastname|age| salary|\n",
      "+---+----------+-------------------+---+-------+\n",
      "|  1|     Agata|               Glut| 63|8399.95|\n",
      "|  2| Krzysztof|             Wlotka| 61|8028.42|\n",
      "|  3|     Agata|           Kowalski| 18|6724.55|\n",
      "|  4|     Marek|       Mieczykowski| 30|7339.13|\n",
      "|  5|  Wojciech|             Szczaw| 45|7022.29|\n",
      "|  6|  Zbigniew|Brzęczyszczykiewicz| 37|7169.08|\n",
      "|  7|Aleksandra|           Barański| 45| 7303.9|\n",
      "|  8|  Zbigniew|         Wróblewski| 31|7609.14|\n",
      "|  9|Aleksandra|           Barański| 48|7254.13|\n",
      "| 10|  Wojciech|         Wróblewski| 24|7082.74|\n",
      "| 11|  Zbigniew|         Malinowski| 64|7532.68|\n",
      "| 12|Aleksandra|             Wlotka| 61| 8256.7|\n",
      "| 13|   Wisława|           Barański| 66|8909.53|\n",
      "| 14|Mieczysław|              Pysla| 46|6937.54|\n",
      "| 15| Krzysztof|           Barański| 20|8362.84|\n",
      "| 16| Krzysztof|               Glut| 40|7696.18|\n",
      "| 17|  Zbigniew|             Szczaw| 59|8898.98|\n",
      "| 18|Mieczysław|       Mieczykowski| 40|6346.49|\n",
      "| 19| Krzysztof|Brzęczyszczykiewicz| 49|6374.78|\n",
      "| 20|     Marek|         Wróblewski| 38| 7906.6|\n",
      "+---+----------+-------------------+---+-------+\n",
      "only showing top 20 rows\n",
      "\n"
     ]
    }
   ],
   "source": [
    "from pyspark.sql.types import DoubleType\n",
    "\n",
    "df2 = spark.read.csv('employee.csv', header=True)\n",
    "df2.show()\n"
   ]
  },
  {
   "cell_type": "code",
   "execution_count": 65,
   "id": "f46423aa-6c96-456a-9f06-3225fdd84719",
   "metadata": {},
   "outputs": [
    {
     "name": "stderr",
     "output_type": "stream",
     "text": [
      "[Stage 122:===============================================>         (5 + 1) / 6]"
     ]
    },
    {
     "name": "stdout",
     "output_type": "stream",
     "text": [
      "Liczba wyników: 314277\n",
      "Czas wykonania: 6.5825 sekund\n"
     ]
    },
    {
     "name": "stderr",
     "output_type": "stream",
     "text": [
      "                                                                                "
     ]
    }
   ],
   "source": [
    "start_time = time.time()\n",
    "count_result = df2.filter(df2[\"salary\"] > 10000).count()\n",
    "end_time = time.time()\n",
    "\n",
    "print(f\"Liczba wyników: {count_result}\")\n",
    "print(f\"Czas wykonania: {end_time - start_time:.4f} sekund\")"
   ]
  },
  {
   "cell_type": "code",
   "execution_count": 66,
   "id": "f4acd9ea-d443-473f-a0da-6d6a4d64b922",
   "metadata": {},
   "outputs": [
    {
     "name": "stderr",
     "output_type": "stream",
     "text": [
      "[Stage 125:===============================================>         (5 + 1) / 6]"
     ]
    },
    {
     "name": "stdout",
     "output_type": "stream",
     "text": [
      "Liczba wyników: 315064\n",
      "Czas wykonania: 5.9096 sekund\n"
     ]
    },
    {
     "name": "stderr",
     "output_type": "stream",
     "text": [
      "                                                                                "
     ]
    }
   ],
   "source": [
    "df_employee = df.withColumn(\"salary_casted\", df[\"salary\"].cast(DoubleType()))\n",
    "\n",
    "start_time = time.time()\n",
    "count_result = df_employee.filter(df_employee[\"salary_casted\"] > 10000).count()\n",
    "end_time = time.time()\n",
    "\n",
    "print(f\"Liczba wyników: {count_result}\")\n",
    "print(f\"Czas wykonania: {end_time - start_time:.4f} sekund\")"
   ]
  },
  {
   "cell_type": "markdown",
   "id": "f8949b0e-bc5d-40ff-9a77-3e85256c2064",
   "metadata": {},
   "source": [
    "## Występuje spora różnica w czasie obliczania dla danych numerycznych **(6.58s do 5.90s)**"
   ]
  },
  {
   "cell_type": "code",
   "execution_count": 69,
   "id": "be099f18-9db3-4e80-b128-afcfd322898e",
   "metadata": {},
   "outputs": [
    {
     "name": "stdout",
     "output_type": "stream",
     "text": [
      "+---+----------+-------------------+---+----------------+\n",
      "| id| firstname|           lastname|age|age_bucket_label|\n",
      "+---+----------+-------------------+---+----------------+\n",
      "|  1|     Agata|               Glut| 63|           60-69|\n",
      "|  2| Krzysztof|             Wlotka| 61|           60-69|\n",
      "|  3|     Agata|           Kowalski| 18|           10-19|\n",
      "|  4|     Marek|       Mieczykowski| 30|           30-39|\n",
      "|  5|  Wojciech|             Szczaw| 45|           40-49|\n",
      "|  6|  Zbigniew|Brzęczyszczykiewicz| 37|           30-39|\n",
      "|  7|Aleksandra|           Barański| 45|           40-49|\n",
      "|  8|  Zbigniew|         Wróblewski| 31|           30-39|\n",
      "|  9|Aleksandra|           Barański| 48|           40-49|\n",
      "| 10|  Wojciech|         Wróblewski| 24|           20-29|\n",
      "| 11|  Zbigniew|         Malinowski| 64|           60-69|\n",
      "| 12|Aleksandra|             Wlotka| 61|           60-69|\n",
      "| 13|   Wisława|           Barański| 66|           60-69|\n",
      "| 14|Mieczysław|              Pysla| 46|           40-49|\n",
      "| 15| Krzysztof|           Barański| 20|           20-29|\n",
      "| 16| Krzysztof|               Glut| 40|           40-49|\n",
      "| 17|  Zbigniew|             Szczaw| 59|           50-59|\n",
      "| 18|Mieczysław|       Mieczykowski| 40|           40-49|\n",
      "| 19| Krzysztof|Brzęczyszczykiewicz| 49|           40-49|\n",
      "| 20|     Marek|         Wróblewski| 38|           30-39|\n",
      "+---+----------+-------------------+---+----------------+\n",
      "only showing top 20 rows\n",
      "\n"
     ]
    },
    {
     "name": "stderr",
     "output_type": "stream",
     "text": [
      "[Stage 137:===============================================>         (5 + 1) / 6]"
     ]
    },
    {
     "name": "stdout",
     "output_type": "stream",
     "text": [
      "+----------------+-------+\n",
      "|age_bucket_label|  count|\n",
      "+----------------+-------+\n",
      "|           10-19| 784111|\n",
      "|           20-29|3920558|\n",
      "|           30-39|3923697|\n",
      "|           40-49|3921071|\n",
      "|           50-59|3920783|\n",
      "|           60-69|3529780|\n",
      "+----------------+-------+\n",
      "\n"
     ]
    },
    {
     "name": "stderr",
     "output_type": "stream",
     "text": [
      "                                                                                "
     ]
    }
   ],
   "source": [
    "from pyspark.ml.feature import Bucketizer\n",
    "from pyspark.sql.functions import col, when\n",
    "\n",
    "splits = [10, 20, 30, 40, 50, 60, 70]\n",
    "\n",
    "bucketizer = Bucketizer(splits=splits, inputCol=\"age\", outputCol=\"age_bucket\")\n",
    "\n",
    "df_buckets = bucketizer.transform(df_employee)\n",
    "\n",
    "df_with_buckets = df_buckets.withColumn(\n",
    "    \"age_bucket_label\",\n",
    "    when(col(\"age_bucket\") == 0.0, \"10-19\")\n",
    "    .when(col(\"age_bucket\") == 1.0, \"20-29\")\n",
    "    .when(col(\"age_bucket\") == 2.0, \"30-39\")\n",
    "    .when(col(\"age_bucket\") == 3.0, \"40-49\")\n",
    "    .when(col(\"age_bucket\") == 4.0, \"50-59\")\n",
    "    .when(col(\"age_bucket\") == 5.0, \"60-69\")\n",
    "    .otherwise(\"unknown\")\n",
    ")\n",
    "\n",
    "df_with_buckets.select(\"id\", \"firstname\", \"lastname\", \"age\", \"age_bucket_label\").show(20)\n",
    "\n",
    "df_bucket_count = df_with_buckets.groupBy(\"age_bucket_label\").count().orderBy(\"age_bucket_label\")\n",
    "df_bucket_count.show()\n"
   ]
  },
  {
   "cell_type": "code",
   "execution_count": null,
   "id": "ad72f4b4-f9b9-4617-a6ed-a09e53882765",
   "metadata": {},
   "outputs": [],
   "source": []
  }
 ],
 "metadata": {
  "kernelspec": {
   "display_name": "Python 3 (ipykernel)",
   "language": "python",
   "name": "python3"
  },
  "language_info": {
   "codemirror_mode": {
    "name": "ipython",
    "version": 3
   },
   "file_extension": ".py",
   "mimetype": "text/x-python",
   "name": "python",
   "nbconvert_exporter": "python",
   "pygments_lexer": "ipython3",
   "version": "3.10.12"
  }
 },
 "nbformat": 4,
 "nbformat_minor": 5
}
